{
  "nbformat": 4,
  "nbformat_minor": 0,
  "metadata": {
    "colab": {
      "name": "Methods_attempted_that_didn't_work.ipynb",
      "provenance": [],
      "collapsed_sections": []
    },
    "kernelspec": {
      "name": "python3",
      "display_name": "Python 3"
    },
    "language_info": {
      "name": "python"
    }
  },
  "cells": [
    {
      "cell_type": "markdown",
      "source": [
        "**Things I tried but didn't work**\n",
        "\n",
        "* Tried using json.load() and json.loads() but it gave an error, after reading it online I noticed we cannot use it directly because the file contains new lines  between objects and it gives error.\n",
        "\n",
        "* Tried using with open to convert the data and store it, that attempt was successful and it worked, but the format was not convinient so had to convert it one more time to get it into dataframe.\n",
        "\n",
        "* To pasre such a huge file took load on my laptop where I was using Anaconda(spider) to run the code it was not that convinent and it gave memory errors.\n",
        "\n",
        "* After that I switched to jupitor notebook which was good and much easier to develope and for documentation purspose also but it also has limitations, it uses my laptops cmd in background ( using local resources).\n",
        "\n",
        "* The last conclusion I arrived at was using **Google Colab**, where I wrote the code successfully and started documenting with code.\n",
        "\n",
        "* While plotting graphs for each field I tried to plot 1 graph and then wrote the code 3 more times, and while trying to write a for loop for a code which could work for all 4 graphs I faced an error while labeling the data I used , in print statements instead I should have used a + it was a string. Later corrected it.\n",
        "\n",
        "* Tried to place graphs side to side but it did not work.\n",
        "\n",
        "* Google colab gave an error once while training ML model would you like to upgrade to Colab Pro you have utilised the ram to it's maximum capacity.\n",
        "\n",
        "* Tried to use all features possible to but needed to drop some either because the column was empty or could not convert the data type to int/float.\n",
        " "
      ],
      "metadata": {
        "id": "t6-JRAOv2IpA"
      }
    },
    {
      "cell_type": "code",
      "source": [
        ""
      ],
      "metadata": {
        "id": "qWUtbPBF8YcT"
      },
      "execution_count": null,
      "outputs": []
    }
  ]
}