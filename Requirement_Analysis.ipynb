{
  "nbformat": 4,
  "nbformat_minor": 0,
  "metadata": {
    "colab": {
      "name": "Requirement_Analysis.ipynb",
      "provenance": [],
      "collapsed_sections": []
    },
    "kernelspec": {
      "name": "python3",
      "display_name": "Python 3"
    },
    "language_info": {
      "name": "python"
    }
  },
  "cells": [
    {
      "cell_type": "markdown",
      "source": [
        "### ***Capital One - Data Science Challenge***\n"
      ],
      "metadata": {
        "id": "I-CHTXltQh2Y"
      }
    },
    {
      "cell_type": "markdown",
      "source": [
        "##**Requirement Analysis**\n",
        "\n",
        "**Task 1: Load**\n",
        "\n",
        "* Programmatically download and load into your favorite analytical tool the transactions data.\n",
        "\n",
        "* Describe the structure of the data. Number of records and fields in each record?\n",
        "\n",
        "* Provide some additional basic summary statistics for each field. Be sure to include a count of null, minimum, maximum, and unique values where appropriate.\n",
        "\n",
        "**Task 2: Plot**\n",
        "\n",
        "* Plot a histogram of the processed amounts of each transaction, the transactionAmount column.\n",
        "\n",
        "* Report any structure you find and any hypotheses you have about that structure.\n",
        "\n",
        "**Task 3: Data Wrangling - Duplicate Transactions**\n",
        "\n",
        "You will notice a number of what look like duplicated transactions in the data set. One type of duplicated transaction is a reversed transaction, where a purchase is followed by a reversal. Another example is a multi-swipe, where a vendor accidentally charges a customer's card multiple times within a short time span.\n",
        "\n",
        "* Identify reversed and multi-swipe transactions?\n",
        "\n",
        "* What total number of transactions and total dollar amount do you estimate for the reversed transactions?\n",
        "\n",
        "* For the multi-swipe transactions? (please consider the first transaction to be \"normal\" and exclude it from the number of transaction and dollar amount counts)\n",
        "\n",
        "* Find anything interesting about either kind of transaction?\n",
        "\n",
        "**Task 4: Model**\n",
        "\n",
        "* Build a predictive model to determine whether a given transaction will be fraudulent or not.\n",
        "\n",
        "* Provide an estimate of performance using an appropriate sample."
      ],
      "metadata": {
        "id": "ev1p9VokWrhe"
      }
    }
  ]
}