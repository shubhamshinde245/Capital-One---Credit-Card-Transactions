{
  "nbformat": 4,
  "nbformat_minor": 0,
  "metadata": {
    "colab": {
      "name": "Ideas_didn't_have_time_to_complete.ipynb",
      "provenance": [],
      "collapsed_sections": []
    },
    "kernelspec": {
      "name": "python3",
      "display_name": "Python 3"
    },
    "language_info": {
      "name": "python"
    }
  },
  "cells": [
    {
      "cell_type": "markdown",
      "source": [
        "**Ideas I didn't have time to complete but would have done with more time**\n",
        "\n",
        "* I could have made 4 graphs in a single graph using subplots.\n",
        "* https://github.com/JackMcKew/pandas_alive\n",
        "\n",
        "* Referring to the above link if more time was permitted I could have made the data alive which will be more fun to watch as we won't need to sit idle and instead we could have taken look how the numbers rise.\n",
        "\n",
        "* Plotting ghaphs of ML models to compare their accuracy.\n",
        "\n",
        "* I would have used all the possible parameters to train the model like converting time to integer, even if few columns have value I would have considered and added an average while which almost might be zero.\n",
        "\n",
        "* Using all the possible variables the accuracy of the model will be improved drasticallly I think.\n",
        "\n",
        "* Provided more time I could have used the DateTime to convert it to int, store it's value and then use it training the model.\n",
        "\n",
        "* I could have completed the Data Wrangling - Duplicate Transactions task with given some more time."
      ],
      "metadata": {
        "id": "iWOmfR7bQTbZ"
      }
    },
    {
      "cell_type": "code",
      "source": [
        ""
      ],
      "metadata": {
        "id": "CVetSDDafL_O"
      },
      "execution_count": null,
      "outputs": []
    }
  ]
}